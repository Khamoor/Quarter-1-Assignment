{
 "cells": [
  {
   "cell_type": "markdown",
   "metadata": {},
   "source": [
    "# 1. Calculate Area of a Circle"
   ]
  },
  {
   "cell_type": "markdown",
   "metadata": {},
   "source": [
    "Write a Python program which accpets the radius of a circle from the user and compute the area."
   ]
  },
  {
   "cell_type": "code",
   "execution_count": 1,
   "metadata": {},
   "outputs": [
    {
     "name": "stdout",
     "output_type": "stream",
     "text": [
      "Input Radius: 0.5\n",
      "Area of Circle with radius 0.5 is 0.7853981633974483\n"
     ]
    }
   ],
   "source": [
    "import math\n",
    "r = float(input(\"Input Radius: \"))\n",
    "a = math.pi * pow(r, 2)\n",
    "print(\"Area of Circle with radius\", r, \"is\", a)"
   ]
  },
  {
   "cell_type": "markdown",
   "metadata": {},
   "source": [
    "# 2. Check Number either positive, negative or zero"
   ]
  },
  {
   "cell_type": "markdown",
   "metadata": {},
   "source": [
    "Write a Python program to check if a number is positive, negative or zero"
   ]
  },
  {
   "cell_type": "code",
   "execution_count": 5,
   "metadata": {},
   "outputs": [
    {
     "name": "stdout",
     "output_type": "stream",
     "text": [
      "Enter Number: -1\n",
      "Negative Number Entered\n"
     ]
    }
   ],
   "source": [
    "num = int(input(\"Enter Number: \"))\n",
    "if num > 0:\n",
    "    print(\"Positive Number Entered\")\n",
    "elif num < 0:\n",
    "    print(\"Negative Number Entered\")\n",
    "else:\n",
    "    print(\"Zero Entered\")"
   ]
  },
  {
   "cell_type": "code",
   "execution_count": 6,
   "metadata": {},
   "outputs": [
    {
     "name": "stdout",
     "output_type": "stream",
     "text": [
      "Enter Number: 3\n",
      "Positive Number Entered\n"
     ]
    }
   ],
   "source": [
    "num = int(input(\"Enter Number: \"))\n",
    "if num > 0:\n",
    "    print(\"Positive Number Entered\")\n",
    "elif num < 0:\n",
    "    print(\"Negative Number Entered\")\n",
    "else:\n",
    "    print(\"Zero Entered\")"
   ]
  },
  {
   "cell_type": "code",
   "execution_count": 9,
   "metadata": {},
   "outputs": [
    {
     "name": "stdout",
     "output_type": "stream",
     "text": [
      "Enter Number: 0\n",
      "Zero Entered\n"
     ]
    }
   ],
   "source": [
    "num = int(input(\"Enter Number: \"))\n",
    "if num > 0:\n",
    "    print(\"Positive Number Entered\")\n",
    "elif num < 0:\n",
    "    print(\"Negative Number Entered\")\n",
    "else:\n",
    "    print(\"Zero Entered\")"
   ]
  },
  {
   "cell_type": "markdown",
   "metadata": {},
   "source": [
    "# 3. Divisibility Check of two numbers"
   ]
  },
  {
   "cell_type": "markdown",
   "metadata": {},
   "source": [
    "Write a Python program to check whether a number is completely divisible by another number. Accept two integer values from the user."
   ]
  },
  {
   "cell_type": "code",
   "execution_count": 1,
   "metadata": {},
   "outputs": [
    {
     "name": "stdout",
     "output_type": "stream",
     "text": [
      "Enter Numerator: 4\n",
      "Enter Denominator: 2\n",
      "Number 4 is completely divisible by 2.\n"
     ]
    }
   ],
   "source": [
    "num = int(input('Enter Numerator: '))\n",
    "den = int(input('Enter Denominator: '))\n",
    "if num % den == 0:\n",
    "    print(\"Number \" + str(num) + \" is completely divisible by \" + str(den) + \".\")\n",
    "else:\n",
    "    print(\"Number \" + str(num) + \" is not completely divisible by \" + str(den) + \".\")"
   ]
  },
  {
   "cell_type": "code",
   "execution_count": 2,
   "metadata": {},
   "outputs": [
    {
     "name": "stdout",
     "output_type": "stream",
     "text": [
      "Enter Numerator: 7\n",
      "Enter Denominator: 4\n",
      "Number 7 is not completely divisible by 4.\n"
     ]
    }
   ],
   "source": [
    "num = int(input('Enter Numerator: '))\n",
    "den = int(input('Enter Denominator: '))\n",
    "if num % den == 0:\n",
    "    print(\"Number \" + str(num) + \" is completely divisible by \" + str(den) + \".\")\n",
    "else:\n",
    "    print(\"Number \" + str(num) + \" is not completely divisible by \" + str(den) + \".\")"
   ]
  },
  {
   "cell_type": "markdown",
   "metadata": {},
   "source": [
    "# 4. Days Calculator"
   ]
  },
  {
   "cell_type": "markdown",
   "metadata": {},
   "source": [
    "Write a Python program to calculate number of days between two dates."
   ]
  },
  {
   "cell_type": "code",
   "execution_count": 6,
   "metadata": {},
   "outputs": [
    {
     "name": "stdout",
     "output_type": "stream",
     "text": [
      "2018-12-13\n",
      "Object `date.strptime` not found.\n"
     ]
    }
   ],
   "source": [
    "from datetime import date\n",
    "date1 = date.strptime(2018, 12, 13)\n",
    "print(date1)\n",
    "dagt"
   ]
  },
  {
   "cell_type": "code",
   "execution_count": 28,
   "metadata": {},
   "outputs": [
    {
     "name": "stdout",
     "output_type": "stream",
     "text": [
      "Enter a date in (dd/mm/yy) format: 12/12/2018\n",
      "Enter a date in (dd/mm/yy) format: 16/12/2018\n",
      "There are 4 days in between 12/12/2018 and 16/12/2018.\n"
     ]
    }
   ],
   "source": [
    "from datetime import date\n",
    "\n",
    "def num_of_days(date1, date2):\n",
    "    return (date2 - date1).days\n",
    "\n",
    "d1 = input('Enter a date in (dd/mm/yy) format: ').split('/')\n",
    "d2 = input('Enter a date in (dd/mm/yy) format: ').split('/')\n",
    "\n",
    "date1 = date(int(d1[2]), int(d1[1]), int(d1[0]))\n",
    "date2 = date(int(d2[2]), int(d2[1]), int(d2[0]))\n",
    "\n",
    "days = num_of_days(date1, date2)\n",
    "\n",
    "print(\"There are \" + str(days) + \" days in between \" + '/'.join(d1) + \" and \" + '/'.join(d2) + \".\")"
   ]
  },
  {
   "cell_type": "markdown",
   "metadata": {},
   "source": [
    "# 5. Calculate Volume of a sphere"
   ]
  },
  {
   "cell_type": "markdown",
   "metadata": {},
   "source": [
    "Write a Python program to get the volume of a sphere, please take the radius as input from user."
   ]
  },
  {
   "cell_type": "code",
   "execution_count": 37,
   "metadata": {},
   "outputs": [
    {
     "name": "stdout",
     "output_type": "stream",
     "text": [
      "Enter Radius of Sphere: 1\n",
      "Volume of the Sphere with Radius 1 is 4.19.\n"
     ]
    }
   ],
   "source": [
    "from math import pi\n",
    "\n",
    "r = int(input('Enter Radius of Sphere: '))\n",
    "v = 4/3 * pi * r ** 3\n",
    "float\n",
    "print(\"Volume of the Sphere with Radius \" + str(r) + \" is \" + str(round(v, 2)) + \".\")"
   ]
  },
  {
   "cell_type": "markdown",
   "metadata": {},
   "source": [
    "# 6. Copy string n times"
   ]
  },
  {
   "cell_type": "markdown",
   "metadata": {},
   "source": [
    "Write a Python program to get a string which is n (non-negative integer) copies of a given string."
   ]
  },
  {
   "cell_type": "code",
   "execution_count": 42,
   "metadata": {},
   "outputs": [
    {
     "name": "stdout",
     "output_type": "stream",
     "text": [
      "Enter String: Hi\n",
      "How many copies of String you need: 4\n",
      "4 Copies of Hi are HiHiHiHi\n"
     ]
    }
   ],
   "source": [
    "string = input('Enter String: ')\n",
    "n = int(input('How many copies of String you need: '))\n",
    "print(str(n) + \" Copies of \" + string + \" are \" + string * n)"
   ]
  },
  {
   "cell_type": "markdown",
   "metadata": {},
   "source": [
    "# 7. Check if number is Even or Odd"
   ]
  },
  {
   "cell_type": "markdown",
   "metadata": {},
   "source": [
    "Write a Python program to find whether a given number (accept from the user) is even or odd, print out an appropriate message to the user."
   ]
  },
  {
   "cell_type": "code",
   "execution_count": 40,
   "metadata": {},
   "outputs": [
    {
     "name": "stdout",
     "output_type": "stream",
     "text": [
      "Enter Number: 4\n",
      "4 is even\n"
     ]
    }
   ],
   "source": [
    "num = int(input('Enter Number: '))\n",
    "if num % 2 == 0:\n",
    "    print(num, \"is even\")\n",
    "else:\n",
    "    print(num, \"is odd\")"
   ]
  },
  {
   "cell_type": "code",
   "execution_count": 41,
   "metadata": {},
   "outputs": [
    {
     "name": "stdout",
     "output_type": "stream",
     "text": [
      "Enter Number: 9\n",
      "9 is odd\n"
     ]
    }
   ],
   "source": [
    "num = int(input('Enter Number: '))\n",
    "if num % 2 == 0:\n",
    "    print(num, \"is even\")\n",
    "else:\n",
    "    print(num, \"is odd\")"
   ]
  },
  {
   "cell_type": "markdown",
   "metadata": {},
   "source": [
    "# 8. Vowel Tester"
   ]
  },
  {
   "cell_type": "markdown",
   "metadata": {},
   "source": [
    "Write a Python program to test whether a passed letter is a vowel or not."
   ]
  },
  {
   "cell_type": "code",
   "execution_count": 47,
   "metadata": {},
   "outputs": [
    {
     "name": "stdout",
     "output_type": "stream",
     "text": [
      "Enter a character: A\n",
      "Letter A is Vowel\n"
     ]
    }
   ],
   "source": [
    "char = input('Enter a character: ')\n",
    "vowels = ['a', 'e', 'i', 'o', 'u']\n",
    "if char.lower() in vowels:\n",
    "    print(f\"Letter {char} is Vowel\")\n",
    "else:\n",
    "    print(f\"Letter {char} is not Vowel\")"
   ]
  },
  {
   "cell_type": "code",
   "execution_count": 48,
   "metadata": {},
   "outputs": [
    {
     "name": "stdout",
     "output_type": "stream",
     "text": [
      "Enter a character: e\n",
      "Letter e is Vowel\n"
     ]
    }
   ],
   "source": [
    "char = input('Enter a character: ')\n",
    "vowels = ['a', 'e', 'i', 'o', 'u']\n",
    "if char.lower() in vowels:\n",
    "    print(f\"Letter {char} is Vowel\")\n",
    "else:\n",
    "    print(f\"Letter {char} is not Vowel\")"
   ]
  },
  {
   "cell_type": "code",
   "execution_count": 49,
   "metadata": {},
   "outputs": [
    {
     "name": "stdout",
     "output_type": "stream",
     "text": [
      "Enter a character: N\n",
      "Letter N is not Vowel\n"
     ]
    }
   ],
   "source": [
    "char = input('Enter a character: ')\n",
    "vowels = ['a', 'e', 'i', 'o', 'u']\n",
    "if char.lower() in vowels:\n",
    "    print(f\"Letter {char} is Vowel\")\n",
    "else:\n",
    "    print(f\"Letter {char} is not Vowel\")"
   ]
  },
  {
   "cell_type": "markdown",
   "metadata": {},
   "source": [
    "# 9. Triangle area"
   ]
  },
  {
   "cell_type": "markdown",
   "metadata": {},
   "source": [
    "Write a Python program that will accept the base and height of a triangle and compute the area."
   ]
  },
  {
   "cell_type": "code",
   "execution_count": 54,
   "metadata": {},
   "outputs": [
    {
     "name": "stdout",
     "output_type": "stream",
     "text": [
      "Enter Magnitude of Triangle Base: 4\n",
      "Enter Magnitude of Triangle Height: 4\n",
      "Area of a Triangle with Height 4 and 4 is 8\n"
     ]
    }
   ],
   "source": [
    "base = int(input('Enter Magnitude of Triangle Base: '))\n",
    "height = int(input('Enter Magnitude of Triangle Height: '))\n",
    "area = 1/2 * base * height\n",
    "print(f\"Area of a Triangle with Height {height} and {base} is {round(area)}\")"
   ]
  },
  {
   "cell_type": "markdown",
   "metadata": {},
   "source": [
    "# 10. Calculate Interest"
   ]
  },
  {
   "cell_type": "markdown",
   "metadata": {},
   "source": [
    "Write a Python program to compute the future value of a specified principal amount, rate of interest, and a number of years."
   ]
  },
  {
   "cell_type": "code",
   "execution_count": 34,
   "metadata": {},
   "outputs": [
    {
     "name": "stdout",
     "output_type": "stream",
     "text": [
      "Please Enter Principal Amount: 10000\n",
      "Please Enter Rate of Interest in %: 0.1\n",
      "Enter number of years for Investment: 5\n",
      "After 5 years your principal amount 10000 over an interest rate of 0.1 % will be 16105.1\n"
     ]
    }
   ],
   "source": [
    "p_amount = int(input('Please Enter Principal Amount: '))\n",
    "r_interest = float(input('Please Enter Rate of Interest in %: '))\n",
    "years = int(input('Enter number of years for Investment: '))\n",
    "future_value = amount\n",
    "a = r_interest * future_value\n",
    "i = 0\n",
    "while i < years:\n",
    "    future_value += a\n",
    "    a = r_interest * future_value\n",
    "    i += 1\n",
    "print(\"After\", years, \"years your principal amount\", p_amount, \"over an interest rate of\", r_interest, \"% will be\", future_value)"
   ]
  },
  {
   "cell_type": "markdown",
   "metadata": {},
   "source": [
    "# 11. Euclidean distance"
   ]
  },
  {
   "cell_type": "markdown",
   "metadata": {},
   "source": [
    "Write a Python program to compute the distance between the points (x1, y1) and (x2, y2)."
   ]
  },
  {
   "cell_type": "code",
   "execution_count": 39,
   "metadata": {},
   "outputs": [
    {
     "name": "stdout",
     "output_type": "stream",
     "text": [
      "Enter Co-ordinate for x1: 2\n",
      "Enter Co-ordinate for x2: 4\n",
      "Enter Co-ordinate for y1: 4\n",
      "Enter Co-ordinate for y2: 4\n",
      "Distance between points (2, 4) and (4, 4) is 2.\n"
     ]
    }
   ],
   "source": [
    "import math\n",
    "\n",
    "x1 = int(input('Enter Co-ordinate for x1: '))\n",
    "x2 = int(input('Enter Co-ordinate for x2: '))\n",
    "y1 = int(input('Enter Co-ordinate for y1: '))\n",
    "y2 = int(input('Enter Co-ordinate for y2: '))\n",
    "\n",
    "d = math.sqrt(((x1 - x2) ** 2 + (y1 - y2) ** 2))\n",
    "\n",
    "print(f\"Distance between points ({x1}, {y1}) and ({x2}, {y2}) is {int(d)}.\")"
   ]
  },
  {
   "cell_type": "markdown",
   "metadata": {},
   "source": [
    "# 12. Feet to Centimeter Converter"
   ]
  },
  {
   "cell_type": "markdown",
   "metadata": {},
   "source": [
    "Write a Python program to convert height in feet to centimeters."
   ]
  },
  {
   "cell_type": "code",
   "execution_count": 44,
   "metadata": {},
   "outputs": [
    {
     "name": "stdout",
     "output_type": "stream",
     "text": [
      "Enter Height in feet: 5\n",
      "There are 152.4 cm in 5 ft.\n"
     ]
    }
   ],
   "source": [
    "height_ft = int(input('Enter Height in feet: '))\n",
    "\n",
    "height_cnt = round(height_ft * 30.48, 1)\n",
    "\n",
    "print(f\"There are {height_cnt} cm in {height_ft} ft.\")"
   ]
  },
  {
   "cell_type": "markdown",
   "metadata": {},
   "source": [
    "# 13. BMI Calculator"
   ]
  },
  {
   "cell_type": "markdown",
   "metadata": {},
   "source": [
    "Write a Python program to calculate body mass index."
   ]
  },
  {
   "cell_type": "code",
   "execution_count": 43,
   "metadata": {},
   "outputs": [
    {
     "name": "stdout",
     "output_type": "stream",
     "text": [
      "Enter Height in Cm: 180\n",
      "Enter Weight in Kg: 75\n",
      "Your BMI is 23.15\n"
     ]
    }
   ],
   "source": [
    "height = int(input('Enter Height in Cm: '))\n",
    "weight = int(input('Enter Weight in Kg: '))\n",
    "\n",
    "BMI = weight / ((height / 100) ** 2)\n",
    "\n",
    "print(f\"Your BMI is {round(BMI, 2)}\")"
   ]
  },
  {
   "cell_type": "markdown",
   "metadata": {},
   "source": [
    "# 14. Sum of n Positive Integers"
   ]
  },
  {
   "cell_type": "markdown",
   "metadata": {},
   "source": [
    "Write a Python program to sum of the first n positive integers."
   ]
  },
  {
   "cell_type": "code",
   "execution_count": 46,
   "metadata": {},
   "outputs": [
    {
     "name": "stdout",
     "output_type": "stream",
     "text": [
      "Enter value of n: 5\n",
      "Sum of n Positive integers till 5 is 15\n"
     ]
    }
   ],
   "source": [
    "n = int(input('Enter value of n: '))\n",
    "sum_n = (n * (n + 1)) / 2\n",
    "print(f\"Sum of n Positive integers till {n} is {round(sum_n)}\")"
   ]
  },
  {
   "cell_type": "markdown",
   "metadata": {},
   "source": [
    "# 15. Digits Sum of a Number"
   ]
  },
  {
   "cell_type": "markdown",
   "metadata": {},
   "source": [
    "Write a Python program to calculate the sum of the digits in an integer."
   ]
  },
  {
   "cell_type": "code",
   "execution_count": 36,
   "metadata": {},
   "outputs": [
    {
     "name": "stdout",
     "output_type": "stream",
     "text": [
      "Enter a number: 15\n",
      "Sum of 1 + 5 is 6\n"
     ]
    }
   ],
   "source": [
    "num = input('Enter a number: ')\n",
    "l = list(num)\n",
    "z = []\n",
    "x = ''\n",
    "for n in l :\n",
    "    z.append(int(n))\n",
    "    if n == l[0]:\n",
    "        x += n\n",
    "    else:\n",
    "        x += ' + ' + n\n",
    "print(f\"Sum of {x} is {sum(z)}\")"
   ]
  },
  {
   "cell_type": "code",
   "execution_count": 37,
   "metadata": {},
   "outputs": [
    {
     "name": "stdout",
     "output_type": "stream",
     "text": [
      "Enter a number: 1234\n",
      "Sum of 1 + 2 + 3 + 4 is 10\n"
     ]
    }
   ],
   "source": [
    "num = input('Enter a number: ')\n",
    "l = list(num)\n",
    "z = []\n",
    "x = ''\n",
    "for n in l :\n",
    "    z.append(int(n))\n",
    "    if n == l[0]:\n",
    "        x += n\n",
    "    else:\n",
    "        x += ' + ' + n\n",
    "print(f\"Sum of {x} is {sum(z)}\")"
   ]
  },
  {
   "cell_type": "markdown",
   "metadata": {},
   "source": [
    "# 16. Decimal to Binary Converter"
   ]
  },
  {
   "cell_type": "markdown",
   "metadata": {},
   "source": [
    "Write a Python program to convert an decimal integer to binary."
   ]
  },
  {
   "cell_type": "code",
   "execution_count": null,
   "metadata": {},
   "outputs": [],
   "source": []
  },
  {
   "cell_type": "markdown",
   "metadata": {},
   "source": [
    "# 17. Binary to Decimal Converter"
   ]
  },
  {
   "cell_type": "markdown",
   "metadata": {},
   "source": [
    "Write a program to convert Binary number to Decimal number."
   ]
  },
  {
   "cell_type": "code",
   "execution_count": null,
   "metadata": {},
   "outputs": [],
   "source": []
  },
  {
   "cell_type": "markdown",
   "metadata": {},
   "source": [
    "# 18. Vowel and Consonants Counter"
   ]
  },
  {
   "cell_type": "markdown",
   "metadata": {},
   "source": [
    "Input a text and count the occurrences of vowels and consonant."
   ]
  },
  {
   "cell_type": "code",
   "execution_count": null,
   "metadata": {},
   "outputs": [],
   "source": []
  },
  {
   "cell_type": "markdown",
   "metadata": {},
   "source": [
    "# 19. Palindrome Tester"
   ]
  },
  {
   "cell_type": "markdown",
   "metadata": {},
   "source": [
    "Write a program to check whether given input is palindrome or not."
   ]
  },
  {
   "cell_type": "code",
   "execution_count": null,
   "metadata": {},
   "outputs": [],
   "source": []
  },
  {
   "cell_type": "markdown",
   "metadata": {},
   "source": [
    "# 20. Count Alphabets, Numbers and Special Characters"
   ]
  },
  {
   "cell_type": "markdown",
   "metadata": {},
   "source": [
    "Write a Python program that accepts a string and calculate the number of digits and letters."
   ]
  },
  {
   "cell_type": "code",
   "execution_count": null,
   "metadata": {},
   "outputs": [],
   "source": []
  },
  {
   "cell_type": "markdown",
   "metadata": {},
   "source": [
    "# 21. Write a Python program to construc the following pattern."
   ]
  },
  {
   "cell_type": "code",
   "execution_count": null,
   "metadata": {},
   "outputs": [],
   "source": []
  },
  {
   "cell_type": "markdown",
   "metadata": {},
   "source": [
    "# 22. Write a Python program to construct the following pattern."
   ]
  },
  {
   "cell_type": "code",
   "execution_count": null,
   "metadata": {},
   "outputs": [],
   "source": []
  },
  {
   "cell_type": "markdown",
   "metadata": {},
   "source": [
    "# 23. Write a Python program to construct the following pattern."
   ]
  }
 ],
 "metadata": {
  "kernelspec": {
   "display_name": "Python 3",
   "language": "python",
   "name": "python3"
  },
  "language_info": {
   "codemirror_mode": {
    "name": "ipython",
    "version": 3
   },
   "file_extension": ".py",
   "mimetype": "text/x-python",
   "name": "python",
   "nbconvert_exporter": "python",
   "pygments_lexer": "ipython3",
   "version": "3.7.3"
  }
 },
 "nbformat": 4,
 "nbformat_minor": 2
}
